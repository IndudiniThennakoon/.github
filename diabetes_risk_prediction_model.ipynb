{
  "nbformat": 4,
  "nbformat_minor": 0,
  "metadata": {
    "colab": {
      "provenance": [],
      "authorship_tag": "ABX9TyMcoMx9a0iwjUzULWQwJt9Z",
      "include_colab_link": true
    },
    "kernelspec": {
      "name": "python3",
      "display_name": "Python 3"
    },
    "language_info": {
      "name": "python"
    }
  },
  "cells": [
    {
      "cell_type": "markdown",
      "metadata": {
        "id": "view-in-github",
        "colab_type": "text"
      },
      "source": [
        "<a href=\"https://colab.research.google.com/github/IndudiniThennakoon/.github/blob/main/diabetes_risk_prediction_model.ipynb\" target=\"_parent\"><img src=\"https://colab.research.google.com/assets/colab-badge.svg\" alt=\"Open In Colab\"/></a>"
      ]
    },
    {
      "cell_type": "code",
      "source": [
        "# import libraries"
      ],
      "metadata": {
        "id": "wWtJ4ptRcuIw"
      },
      "execution_count": null,
      "outputs": []
    },
    {
      "cell_type": "code",
      "source": [
        "import numpy as np\n",
        "import pandas as pd\n",
        "from sklearn.preprocessing import MinMaxScaler, LabelEncoder\n",
        "from sklearn.feature_selection import RFE\n",
        "from sklearn.linear_model import LinearRegression\n",
        "from keras.models import Sequential\n",
        "from keras.layers import SimpleRNN, Dense, Dropout, BatchNormalization\n",
        "from keras.regularizers import l2\n",
        "from keras.callbacks import EarlyStopping\n",
        "from keras.optimizers import Adam\n",
        "from sklearn.metrics import mean_absolute_error, mean_squared_error, r2_score\n",
        "import matplotlib.pyplot as plt\n",
        "from sklearn.model_selection import train_test_split"
      ],
      "metadata": {
        "id": "aTq1c7I5tolA"
      },
      "execution_count": 1,
      "outputs": []
    },
    {
      "cell_type": "code",
      "source": [
        "data = pd.read_csv('/content/GlobalWeatherRepository.csv')"
      ],
      "metadata": {
        "id": "qe-QV42ft3Nr"
      },
      "execution_count": 4,
      "outputs": []
    },
    {
      "cell_type": "code",
      "source": [
        "# preprocessing"
      ],
      "metadata": {
        "id": "OjQefTAn12Z5"
      },
      "execution_count": null,
      "outputs": []
    },
    {
      "cell_type": "code",
      "source": [
        "print(\"Dataset Information:\")\n",
        "print(data.info())\n",
        "print(\"\\nMissing Values:\")\n",
        "print(data.isnull().sum())\n",
        "print(f\"\\nNumber of rows: {len(data)}\")\n",
        "print(f\"\\nNumber of columns: {len(data.columns)}\")\n",
        "print(\"\\nFirst few rows:\")\n",
        "print(data.head())"
      ],
      "metadata": {
        "colab": {
          "base_uri": "https://localhost:8080/"
        },
        "id": "ARmnV8cW16DX",
        "outputId": "7a4db744-7939-4d63-ccbe-082d2ee97779"
      },
      "execution_count": 5,
      "outputs": [
        {
          "output_type": "stream",
          "name": "stdout",
          "text": [
            "Dataset Information:\n",
            "<class 'pandas.core.frame.DataFrame'>\n",
            "RangeIndex: 26002 entries, 0 to 26001\n",
            "Data columns (total 41 columns):\n",
            " #   Column                        Non-Null Count  Dtype  \n",
            "---  ------                        --------------  -----  \n",
            " 0   country                       26002 non-null  object \n",
            " 1   location_name                 26002 non-null  object \n",
            " 2   latitude                      26002 non-null  float64\n",
            " 3   longitude                     26002 non-null  float64\n",
            " 4   timezone                      26002 non-null  object \n",
            " 5   last_updated_epoch            26002 non-null  int64  \n",
            " 6   last_updated                  26002 non-null  object \n",
            " 7   temperature_celsius           26002 non-null  float64\n",
            " 8   temperature_fahrenheit        26002 non-null  float64\n",
            " 9   condition_text                26002 non-null  object \n",
            " 10  wind_mph                      26002 non-null  float64\n",
            " 11  wind_kph                      26002 non-null  float64\n",
            " 12  wind_degree                   26002 non-null  int64  \n",
            " 13  wind_direction                26002 non-null  object \n",
            " 14  pressure_mb                   26002 non-null  float64\n",
            " 15  pressure_in                   26002 non-null  float64\n",
            " 16  precip_mm                     26002 non-null  float64\n",
            " 17  precip_in                     26002 non-null  float64\n",
            " 18  humidity                      26002 non-null  int64  \n",
            " 19  cloud                         26002 non-null  int64  \n",
            " 20  feels_like_celsius            26002 non-null  float64\n",
            " 21  feels_like_fahrenheit         26002 non-null  float64\n",
            " 22  visibility_km                 26002 non-null  float64\n",
            " 23  visibility_miles              26002 non-null  float64\n",
            " 24  uv_index                      26002 non-null  float64\n",
            " 25  gust_mph                      26002 non-null  float64\n",
            " 26  gust_kph                      26002 non-null  float64\n",
            " 27  air_quality_Carbon_Monoxide   26002 non-null  float64\n",
            " 28  air_quality_Ozone             26002 non-null  float64\n",
            " 29  air_quality_Nitrogen_dioxide  26002 non-null  float64\n",
            " 30  air_quality_Sulphur_dioxide   26002 non-null  float64\n",
            " 31  air_quality_PM2.5             26002 non-null  float64\n",
            " 32  air_quality_PM10              26002 non-null  float64\n",
            " 33  air_quality_us-epa-index      26002 non-null  int64  \n",
            " 34  air_quality_gb-defra-index    26002 non-null  int64  \n",
            " 35  sunrise                       26002 non-null  object \n",
            " 36  sunset                        26002 non-null  object \n",
            " 37  moonrise                      26002 non-null  object \n",
            " 38  moonset                       26002 non-null  object \n",
            " 39  moon_phase                    26002 non-null  object \n",
            " 40  moon_illumination             26002 non-null  int64  \n",
            "dtypes: float64(23), int64(7), object(11)\n",
            "memory usage: 8.1+ MB\n",
            "None\n",
            "\n",
            "Missing Values:\n",
            "country                         0\n",
            "location_name                   0\n",
            "latitude                        0\n",
            "longitude                       0\n",
            "timezone                        0\n",
            "last_updated_epoch              0\n",
            "last_updated                    0\n",
            "temperature_celsius             0\n",
            "temperature_fahrenheit          0\n",
            "condition_text                  0\n",
            "wind_mph                        0\n",
            "wind_kph                        0\n",
            "wind_degree                     0\n",
            "wind_direction                  0\n",
            "pressure_mb                     0\n",
            "pressure_in                     0\n",
            "precip_mm                       0\n",
            "precip_in                       0\n",
            "humidity                        0\n",
            "cloud                           0\n",
            "feels_like_celsius              0\n",
            "feels_like_fahrenheit           0\n",
            "visibility_km                   0\n",
            "visibility_miles                0\n",
            "uv_index                        0\n",
            "gust_mph                        0\n",
            "gust_kph                        0\n",
            "air_quality_Carbon_Monoxide     0\n",
            "air_quality_Ozone               0\n",
            "air_quality_Nitrogen_dioxide    0\n",
            "air_quality_Sulphur_dioxide     0\n",
            "air_quality_PM2.5               0\n",
            "air_quality_PM10                0\n",
            "air_quality_us-epa-index        0\n",
            "air_quality_gb-defra-index      0\n",
            "sunrise                         0\n",
            "sunset                          0\n",
            "moonrise                        0\n",
            "moonset                         0\n",
            "moon_phase                      0\n",
            "moon_illumination               0\n",
            "dtype: int64\n",
            "\n",
            "Number of rows: 26002\n",
            "\n",
            "Number of columns: 41\n",
            "\n",
            "First few rows:\n",
            "       country     location_name  latitude  longitude        timezone  \\\n",
            "0  Afghanistan             Kabul     34.52      69.18      Asia/Kabul   \n",
            "1      Albania            Tirana     41.33      19.82   Europe/Tirane   \n",
            "2      Algeria           Algiers     36.76       3.05  Africa/Algiers   \n",
            "3      Andorra  Andorra La Vella     42.50       1.52  Europe/Andorra   \n",
            "4       Angola            Luanda     -8.84      13.23   Africa/Luanda   \n",
            "\n",
            "   last_updated_epoch      last_updated  temperature_celsius  \\\n",
            "0          1715849100  2024-05-16 13:15                 26.6   \n",
            "1          1715849100  2024-05-16 10:45                 19.0   \n",
            "2          1715849100  2024-05-16 09:45                 23.0   \n",
            "3          1715849100  2024-05-16 10:45                  6.3   \n",
            "4          1715849100  2024-05-16 09:45                 26.0   \n",
            "\n",
            "   temperature_fahrenheit condition_text  ...  air_quality_PM2.5  \\\n",
            "0                    79.8  Partly Cloudy  ...                8.4   \n",
            "1                    66.2  Partly cloudy  ...                1.1   \n",
            "2                    73.4          Sunny  ...               10.4   \n",
            "3                    43.3  Light drizzle  ...                0.7   \n",
            "4                    78.8  Partly cloudy  ...              183.4   \n",
            "\n",
            "   air_quality_PM10  air_quality_us-epa-index air_quality_gb-defra-index  \\\n",
            "0              26.6                         1                          1   \n",
            "1               2.0                         1                          1   \n",
            "2              18.4                         1                          1   \n",
            "3               0.9                         1                          1   \n",
            "4             262.3                         5                         10   \n",
            "\n",
            "    sunrise    sunset  moonrise   moonset      moon_phase  moon_illumination  \n",
            "0  04:50 AM  06:50 PM  12:12 PM  01:11 AM  Waxing Gibbous                 55  \n",
            "1  05:21 AM  07:54 PM  12:58 PM  02:14 AM  Waxing Gibbous                 55  \n",
            "2  05:40 AM  07:50 PM  01:15 PM  02:14 AM  Waxing Gibbous                 55  \n",
            "3  06:31 AM  09:11 PM  02:12 PM  03:31 AM  Waxing Gibbous                 55  \n",
            "4  06:12 AM  05:55 PM  01:17 PM  12:38 AM  Waxing Gibbous                 55  \n",
            "\n",
            "[5 rows x 41 columns]\n"
          ]
        }
      ]
    },
    {
      "cell_type": "code",
      "source": [
        "# encoding"
      ],
      "metadata": {
        "id": "hy-QsrB92Pht"
      },
      "execution_count": null,
      "outputs": []
    },
    {
      "cell_type": "code",
      "source": [
        "for col in data.columns:\n",
        "    if data[col].dtype == 'object':\n",
        "        print(f\"Encoding column: {col}\")\n",
        "        encoder = LabelEncoder()\n",
        "        data[col] = encoder.fit_transform(data[col])"
      ],
      "metadata": {
        "colab": {
          "base_uri": "https://localhost:8080/"
        },
        "id": "osvEWPn52G-G",
        "outputId": "315532ae-c0bf-4204-951d-f699595aeb28"
      },
      "execution_count": 6,
      "outputs": [
        {
          "output_type": "stream",
          "name": "stdout",
          "text": [
            "Encoding column: country\n",
            "Encoding column: location_name\n",
            "Encoding column: timezone\n",
            "Encoding column: last_updated\n",
            "Encoding column: condition_text\n",
            "Encoding column: wind_direction\n",
            "Encoding column: sunrise\n",
            "Encoding column: sunset\n",
            "Encoding column: moonrise\n",
            "Encoding column: moonset\n",
            "Encoding column: moon_phase\n"
          ]
        }
      ]
    },
    {
      "cell_type": "code",
      "source": [
        "# feature selection and target (I will temperature as the target value )"
      ],
      "metadata": {
        "id": "wltSZK6X2nh9"
      },
      "execution_count": null,
      "outputs": []
    },
    {
      "cell_type": "code",
      "source": [
        "X = data[['latitude', 'longitude', 'humidity', 'wind_mph', 'pressure_mb']].values\n",
        "y = data['temperature_celsius'].values"
      ],
      "metadata": {
        "id": "Z0wnHXaF2l7X"
      },
      "execution_count": 7,
      "outputs": []
    },
    {
      "cell_type": "code",
      "source": [
        "#outlier removal ussing IQR"
      ],
      "metadata": {
        "id": "S86BymNL3Fx9"
      },
      "execution_count": null,
      "outputs": []
    },
    {
      "cell_type": "code",
      "source": [
        "Q1 = np.percentile(X, 25, axis=0)\n",
        "Q3 = np.percentile(X, 75, axis=0)\n",
        "IQR = Q3 - Q1\n",
        "lower_bound = Q1 - 1.5 * IQR\n",
        "upper_bound = Q3 + 1.5 * IQR"
      ],
      "metadata": {
        "id": "q1YgMGd-3D9F"
      },
      "execution_count": 8,
      "outputs": []
    },
    {
      "cell_type": "code",
      "source": [
        "mask = np.all((X >= lower_bound) & (X <= upper_bound), axis=1)\n",
        "X_cleaned = X[mask]\n",
        "y_cleaned = y[mask]"
      ],
      "metadata": {
        "id": "j_l63m6B3OFH"
      },
      "execution_count": 9,
      "outputs": []
    },
    {
      "cell_type": "code",
      "source": [
        "# feature selection (RFE)"
      ],
      "metadata": {
        "id": "qlYYoNum3oKC"
      },
      "execution_count": null,
      "outputs": []
    },
    {
      "cell_type": "code",
      "source": [
        "model = LinearRegression()\n",
        "rfe = RFE(model, n_features_to_select=3)\n",
        "X_selected = rfe.fit_transform(X_cleaned, y_cleaned)"
      ],
      "metadata": {
        "id": "8oNvTByp3nD6"
      },
      "execution_count": 10,
      "outputs": []
    },
    {
      "cell_type": "code",
      "source": [
        "#scaling the data"
      ],
      "metadata": {
        "id": "TqU4-fhj37Pj"
      },
      "execution_count": null,
      "outputs": []
    },
    {
      "cell_type": "code",
      "source": [
        "scaler_X = MinMaxScaler()\n",
        "scaler_y = MinMaxScaler()"
      ],
      "metadata": {
        "id": "A1N-Xsj634IA"
      },
      "execution_count": 11,
      "outputs": []
    },
    {
      "cell_type": "code",
      "source": [
        "X_scaled = scaler_X.fit_transform(X_selected)\n",
        "y_scaled = scaler_y.fit_transform(y_cleaned.reshape(-1, 1))"
      ],
      "metadata": {
        "id": "6uPp-vvI39pJ"
      },
      "execution_count": 12,
      "outputs": []
    },
    {
      "cell_type": "code",
      "source": [
        "#data augmentation | adding slight noise"
      ],
      "metadata": {
        "id": "XB5F20rx4JDa"
      },
      "execution_count": null,
      "outputs": []
    },
    {
      "cell_type": "code",
      "source": [
        "def augment_data(X, y, noise_factor=0.01):\n",
        "    augmented_X = []\n",
        "    augmented_y = []\n",
        "\n",
        "    for i in range(len(X)):\n",
        "        noisy_X = X[i] + noise_factor * np.random.randn(*X[i].shape)\n",
        "        augmented_X.append(noisy_X)\n",
        "        augmented_y.append(y[i])\n",
        "\n",
        "    return np.array(augmented_X), np.array(augmented_y)"
      ],
      "metadata": {
        "id": "icFKsgXU4ILD"
      },
      "execution_count": 13,
      "outputs": []
    },
    {
      "cell_type": "code",
      "source": [
        "X_augmented, y_augmented = augment_data(X_scaled, y_scaled)"
      ],
      "metadata": {
        "id": "MucV288z4R1h"
      },
      "execution_count": 14,
      "outputs": []
    },
    {
      "cell_type": "code",
      "source": [
        "#prepare data for time series"
      ],
      "metadata": {
        "id": "W397je0c4lNG"
      },
      "execution_count": null,
      "outputs": []
    },
    {
      "cell_type": "code",
      "source": [
        "time_steps = 10"
      ],
      "metadata": {
        "id": "Zok18HRZ4drp"
      },
      "execution_count": 15,
      "outputs": []
    },
    {
      "cell_type": "code",
      "source": [
        "def create_sequences(X, y, time_steps):\n",
        "    Xs, ys = [], []\n",
        "    for i in range(len(X) - time_steps):\n",
        "        Xs.append(X[i:(i + time_steps)])\n",
        "        ys.append(y[i + time_steps])\n",
        "    return np.array(Xs), np.array(ys)"
      ],
      "metadata": {
        "id": "C8hk8myQ4gRf"
      },
      "execution_count": 16,
      "outputs": []
    },
    {
      "cell_type": "code",
      "source": [
        "X_sequences, y_sequences = create_sequences(X_augmented, y_augmented, time_steps)"
      ],
      "metadata": {
        "id": "aAlT5s3H4iYY"
      },
      "execution_count": 17,
      "outputs": []
    },
    {
      "cell_type": "code",
      "source": [
        "# split train and test"
      ],
      "metadata": {
        "id": "PxJWaEPw45IT"
      },
      "execution_count": null,
      "outputs": []
    },
    {
      "cell_type": "code",
      "source": [
        "X_train, X_test, y_train, y_test = train_test_split(X_sequences, y_sequences, test_size=0.2, random_state=42)"
      ],
      "metadata": {
        "id": "vm5SKvXn41Ri"
      },
      "execution_count": 18,
      "outputs": []
    },
    {
      "cell_type": "code",
      "source": [
        "#build the RNN"
      ],
      "metadata": {
        "id": "3lpg0GzX47eB"
      },
      "execution_count": null,
      "outputs": []
    },
    {
      "cell_type": "code",
      "source": [
        "model = Sequential()\n",
        "model.add(SimpleRNN(units=5, return_sequences=False, input_shape=(time_steps, X_train.shape[2]), kernel_regularizer=l2(0.05)))\n",
        "model.add(Dropout(0.5))\n",
        "model.add(BatchNormalization())\n",
        "model.add(Dense(25, activation='relu', kernel_regularizer=l2(0.05)))\n",
        "model.add(Dropout(0.5))\n",
        "model.add(Dense(1))"
      ],
      "metadata": {
        "colab": {
          "base_uri": "https://localhost:8080/"
        },
        "id": "pGYg3yxO5CDS",
        "outputId": "590a03fc-1e12-4ad1-e1a4-309b2c162314"
      },
      "execution_count": 19,
      "outputs": [
        {
          "output_type": "stream",
          "name": "stderr",
          "text": [
            "/usr/local/lib/python3.10/dist-packages/keras/src/layers/rnn/rnn.py:204: UserWarning: Do not pass an `input_shape`/`input_dim` argument to a layer. When using Sequential models, prefer using an `Input(shape)` object as the first layer in the model instead.\n",
            "  super().__init__(**kwargs)\n"
          ]
        }
      ]
    },
    {
      "cell_type": "code",
      "source": [
        "#compile the model with a reduced learing rate"
      ],
      "metadata": {
        "id": "_tAn0Deo5VmL"
      },
      "execution_count": null,
      "outputs": []
    },
    {
      "cell_type": "code",
      "source": [
        "model.compile(optimizer=Adam(learning_rate=0.0001), loss='mean_squared_error')"
      ],
      "metadata": {
        "id": "iOA4KHxC5UrZ"
      },
      "execution_count": 20,
      "outputs": []
    },
    {
      "cell_type": "code",
      "source": [
        "#early stopping to prevent overfitting"
      ],
      "metadata": {
        "id": "Cvpb4Tuh5oi0"
      },
      "execution_count": null,
      "outputs": []
    },
    {
      "cell_type": "code",
      "source": [
        "early_stopping = EarlyStopping(monitor='val_loss', patience=5, restore_best_weights=True)"
      ],
      "metadata": {
        "id": "5NeXErGk5nTd"
      },
      "execution_count": 21,
      "outputs": []
    },
    {
      "cell_type": "code",
      "source": [
        "#train the model"
      ],
      "metadata": {
        "id": "SwrsFUZe50vC"
      },
      "execution_count": null,
      "outputs": []
    },
    {
      "cell_type": "code",
      "source": [
        "history = model.fit(X_train, y_train, epochs=50, batch_size=32, validation_data=(X_test, y_test), callbacks=[early_stopping])"
      ],
      "metadata": {
        "colab": {
          "base_uri": "https://localhost:8080/"
        },
        "id": "CChUVeYx50KJ",
        "outputId": "3c1ff285-3957-47f8-ce5f-219eb383ac11"
      },
      "execution_count": 22,
      "outputs": [
        {
          "output_type": "stream",
          "name": "stdout",
          "text": [
            "Epoch 1/50\n",
            "\u001b[1m570/570\u001b[0m \u001b[32m━━━━━━━━━━━━━━━━━━━━\u001b[0m\u001b[37m\u001b[0m \u001b[1m7s\u001b[0m 6ms/step - loss: 1.1593 - val_loss: 0.6825\n",
            "Epoch 2/50\n",
            "\u001b[1m570/570\u001b[0m \u001b[32m━━━━━━━━━━━━━━━━━━━━\u001b[0m\u001b[37m\u001b[0m \u001b[1m5s\u001b[0m 5ms/step - loss: 0.7997 - val_loss: 0.5486\n",
            "Epoch 3/50\n",
            "\u001b[1m570/570\u001b[0m \u001b[32m━━━━━━━━━━━━━━━━━━━━\u001b[0m\u001b[37m\u001b[0m \u001b[1m4s\u001b[0m 6ms/step - loss: 0.6000 - val_loss: 0.4438\n",
            "Epoch 4/50\n",
            "\u001b[1m570/570\u001b[0m \u001b[32m━━━━━━━━━━━━━━━━━━━━\u001b[0m\u001b[37m\u001b[0m \u001b[1m3s\u001b[0m 6ms/step - loss: 0.4545 - val_loss: 0.3501\n",
            "Epoch 5/50\n",
            "\u001b[1m570/570\u001b[0m \u001b[32m━━━━━━━━━━━━━━━━━━━━\u001b[0m\u001b[37m\u001b[0m \u001b[1m4s\u001b[0m 5ms/step - loss: 0.3487 - val_loss: 0.2710\n",
            "Epoch 6/50\n",
            "\u001b[1m570/570\u001b[0m \u001b[32m━━━━━━━━━━━━━━━━━━━━\u001b[0m\u001b[37m\u001b[0m \u001b[1m3s\u001b[0m 4ms/step - loss: 0.2612 - val_loss: 0.2045\n",
            "Epoch 7/50\n",
            "\u001b[1m570/570\u001b[0m \u001b[32m━━━━━━━━━━━━━━━━━━━━\u001b[0m\u001b[37m\u001b[0m \u001b[1m6s\u001b[0m 6ms/step - loss: 0.1964 - val_loss: 0.1511\n",
            "Epoch 8/50\n",
            "\u001b[1m570/570\u001b[0m \u001b[32m━━━━━━━━━━━━━━━━━━━━\u001b[0m\u001b[37m\u001b[0m \u001b[1m4s\u001b[0m 4ms/step - loss: 0.1450 - val_loss: 0.1109\n",
            "Epoch 9/50\n",
            "\u001b[1m570/570\u001b[0m \u001b[32m━━━━━━━━━━━━━━━━━━━━\u001b[0m\u001b[37m\u001b[0m \u001b[1m6s\u001b[0m 6ms/step - loss: 0.1074 - val_loss: 0.0809\n",
            "Epoch 10/50\n",
            "\u001b[1m570/570\u001b[0m \u001b[32m━━━━━━━━━━━━━━━━━━━━\u001b[0m\u001b[37m\u001b[0m \u001b[1m5s\u001b[0m 5ms/step - loss: 0.0806 - val_loss: 0.0590\n",
            "Epoch 11/50\n",
            "\u001b[1m570/570\u001b[0m \u001b[32m━━━━━━━━━━━━━━━━━━━━\u001b[0m\u001b[37m\u001b[0m \u001b[1m5s\u001b[0m 5ms/step - loss: 0.0594 - val_loss: 0.0442\n",
            "Epoch 12/50\n",
            "\u001b[1m570/570\u001b[0m \u001b[32m━━━━━━━━━━━━━━━━━━━━\u001b[0m\u001b[37m\u001b[0m \u001b[1m6s\u001b[0m 7ms/step - loss: 0.0458 - val_loss: 0.0337\n",
            "Epoch 13/50\n",
            "\u001b[1m570/570\u001b[0m \u001b[32m━━━━━━━━━━━━━━━━━━━━\u001b[0m\u001b[37m\u001b[0m \u001b[1m4s\u001b[0m 5ms/step - loss: 0.0356 - val_loss: 0.0270\n",
            "Epoch 14/50\n",
            "\u001b[1m570/570\u001b[0m \u001b[32m━━━━━━━━━━━━━━━━━━━━\u001b[0m\u001b[37m\u001b[0m \u001b[1m6s\u001b[0m 6ms/step - loss: 0.0289 - val_loss: 0.0226\n",
            "Epoch 15/50\n",
            "\u001b[1m570/570\u001b[0m \u001b[32m━━━━━━━━━━━━━━━━━━━━\u001b[0m\u001b[37m\u001b[0m \u001b[1m4s\u001b[0m 6ms/step - loss: 0.0242 - val_loss: 0.0198\n",
            "Epoch 16/50\n",
            "\u001b[1m570/570\u001b[0m \u001b[32m━━━━━━━━━━━━━━━━━━━━\u001b[0m\u001b[37m\u001b[0m \u001b[1m3s\u001b[0m 5ms/step - loss: 0.0213 - val_loss: 0.0180\n",
            "Epoch 17/50\n",
            "\u001b[1m570/570\u001b[0m \u001b[32m━━━━━━━━━━━━━━━━━━━━\u001b[0m\u001b[37m\u001b[0m \u001b[1m5s\u001b[0m 5ms/step - loss: 0.0195 - val_loss: 0.0170\n",
            "Epoch 18/50\n",
            "\u001b[1m570/570\u001b[0m \u001b[32m━━━━━━━━━━━━━━━━━━━━\u001b[0m\u001b[37m\u001b[0m \u001b[1m4s\u001b[0m 8ms/step - loss: 0.0183 - val_loss: 0.0165\n",
            "Epoch 19/50\n",
            "\u001b[1m570/570\u001b[0m \u001b[32m━━━━━━━━━━━━━━━━━━━━\u001b[0m\u001b[37m\u001b[0m \u001b[1m3s\u001b[0m 5ms/step - loss: 0.0176 - val_loss: 0.0162\n",
            "Epoch 20/50\n",
            "\u001b[1m570/570\u001b[0m \u001b[32m━━━━━━━━━━━━━━━━━━━━\u001b[0m\u001b[37m\u001b[0m \u001b[1m5s\u001b[0m 5ms/step - loss: 0.0172 - val_loss: 0.0160\n",
            "Epoch 21/50\n",
            "\u001b[1m570/570\u001b[0m \u001b[32m━━━━━━━━━━━━━━━━━━━━\u001b[0m\u001b[37m\u001b[0m \u001b[1m4s\u001b[0m 7ms/step - loss: 0.0167 - val_loss: 0.0159\n",
            "Epoch 22/50\n",
            "\u001b[1m570/570\u001b[0m \u001b[32m━━━━━━━━━━━━━━━━━━━━\u001b[0m\u001b[37m\u001b[0m \u001b[1m4s\u001b[0m 6ms/step - loss: 0.0164 - val_loss: 0.0159\n",
            "Epoch 23/50\n",
            "\u001b[1m570/570\u001b[0m \u001b[32m━━━━━━━━━━━━━━━━━━━━\u001b[0m\u001b[37m\u001b[0m \u001b[1m4s\u001b[0m 4ms/step - loss: 0.0168 - val_loss: 0.0159\n",
            "Epoch 24/50\n",
            "\u001b[1m570/570\u001b[0m \u001b[32m━━━━━━━━━━━━━━━━━━━━\u001b[0m\u001b[37m\u001b[0m \u001b[1m3s\u001b[0m 5ms/step - loss: 0.0164 - val_loss: 0.0159\n",
            "Epoch 25/50\n",
            "\u001b[1m570/570\u001b[0m \u001b[32m━━━━━━━━━━━━━━━━━━━━\u001b[0m\u001b[37m\u001b[0m \u001b[1m4s\u001b[0m 6ms/step - loss: 0.0167 - val_loss: 0.0159\n",
            "Epoch 26/50\n",
            "\u001b[1m570/570\u001b[0m \u001b[32m━━━━━━━━━━━━━━━━━━━━\u001b[0m\u001b[37m\u001b[0m \u001b[1m3s\u001b[0m 6ms/step - loss: 0.0167 - val_loss: 0.0159\n",
            "Epoch 27/50\n",
            "\u001b[1m570/570\u001b[0m \u001b[32m━━━━━━━━━━━━━━━━━━━━\u001b[0m\u001b[37m\u001b[0m \u001b[1m3s\u001b[0m 5ms/step - loss: 0.0162 - val_loss: 0.0159\n",
            "Epoch 28/50\n",
            "\u001b[1m570/570\u001b[0m \u001b[32m━━━━━━━━━━━━━━━━━━━━\u001b[0m\u001b[37m\u001b[0m \u001b[1m5s\u001b[0m 5ms/step - loss: 0.0166 - val_loss: 0.0159\n",
            "Epoch 29/50\n",
            "\u001b[1m570/570\u001b[0m \u001b[32m━━━━━━━━━━━━━━━━━━━━\u001b[0m\u001b[37m\u001b[0m \u001b[1m5s\u001b[0m 5ms/step - loss: 0.0166 - val_loss: 0.0159\n",
            "Epoch 30/50\n",
            "\u001b[1m570/570\u001b[0m \u001b[32m━━━━━━━━━━━━━━━━━━━━\u001b[0m\u001b[37m\u001b[0m \u001b[1m5s\u001b[0m 5ms/step - loss: 0.0165 - val_loss: 0.0159\n",
            "Epoch 31/50\n",
            "\u001b[1m570/570\u001b[0m \u001b[32m━━━━━━━━━━━━━━━━━━━━\u001b[0m\u001b[37m\u001b[0m \u001b[1m3s\u001b[0m 6ms/step - loss: 0.0164 - val_loss: 0.0159\n",
            "Epoch 32/50\n",
            "\u001b[1m570/570\u001b[0m \u001b[32m━━━━━━━━━━━━━━━━━━━━\u001b[0m\u001b[37m\u001b[0m \u001b[1m4s\u001b[0m 6ms/step - loss: 0.0163 - val_loss: 0.0159\n",
            "Epoch 33/50\n",
            "\u001b[1m570/570\u001b[0m \u001b[32m━━━━━━━━━━━━━━━━━━━━\u001b[0m\u001b[37m\u001b[0m \u001b[1m3s\u001b[0m 5ms/step - loss: 0.0163 - val_loss: 0.0159\n",
            "Epoch 34/50\n",
            "\u001b[1m570/570\u001b[0m \u001b[32m━━━━━━━━━━━━━━━━━━━━\u001b[0m\u001b[37m\u001b[0m \u001b[1m6s\u001b[0m 6ms/step - loss: 0.0163 - val_loss: 0.0159\n",
            "Epoch 35/50\n",
            "\u001b[1m570/570\u001b[0m \u001b[32m━━━━━━━━━━━━━━━━━━━━\u001b[0m\u001b[37m\u001b[0m \u001b[1m4s\u001b[0m 7ms/step - loss: 0.0163 - val_loss: 0.0159\n",
            "Epoch 36/50\n",
            "\u001b[1m570/570\u001b[0m \u001b[32m━━━━━━━━━━━━━━━━━━━━\u001b[0m\u001b[37m\u001b[0m \u001b[1m4s\u001b[0m 5ms/step - loss: 0.0165 - val_loss: 0.0159\n"
          ]
        }
      ]
    },
    {
      "cell_type": "code",
      "source": [
        "loss = model.evaluate(X_test, y_test)\n",
        "print(f'Test Loss (MSE): {loss}')"
      ],
      "metadata": {
        "colab": {
          "base_uri": "https://localhost:8080/"
        },
        "id": "rgARF43z6y5l",
        "outputId": "15da60e4-a9de-4d70-e56c-204de29fcafd"
      },
      "execution_count": 23,
      "outputs": [
        {
          "output_type": "stream",
          "name": "stdout",
          "text": [
            "\u001b[1m143/143\u001b[0m \u001b[32m━━━━━━━━━━━━━━━━━━━━\u001b[0m\u001b[37m\u001b[0m \u001b[1m0s\u001b[0m 2ms/step - loss: 0.0155\n",
            "Test Loss (MSE): 0.01591229811310768\n"
          ]
        }
      ]
    },
    {
      "cell_type": "code",
      "source": [
        "#prediction"
      ],
      "metadata": {
        "id": "NuOncitB7JN_"
      },
      "execution_count": null,
      "outputs": []
    },
    {
      "cell_type": "code",
      "source": [
        "y_pred_scaled = model.predict(X_test)"
      ],
      "metadata": {
        "colab": {
          "base_uri": "https://localhost:8080/"
        },
        "id": "ELVfR4L97BxT",
        "outputId": "dcb22dc9-b0fc-424e-9765-fee88668bc54"
      },
      "execution_count": 24,
      "outputs": [
        {
          "output_type": "stream",
          "name": "stdout",
          "text": [
            "\u001b[1m143/143\u001b[0m \u001b[32m━━━━━━━━━━━━━━━━━━━━\u001b[0m\u001b[37m\u001b[0m \u001b[1m1s\u001b[0m 3ms/step\n"
          ]
        }
      ]
    },
    {
      "cell_type": "code",
      "source": [
        "y_pred = scaler_y.inverse_transform(y_pred_scaled)\n",
        "y_test_original = scaler_y.inverse_transform(y_test)"
      ],
      "metadata": {
        "id": "dh3tIPnc7F3d"
      },
      "execution_count": 25,
      "outputs": []
    },
    {
      "cell_type": "code",
      "source": [
        "#calculate accuracy metrics"
      ],
      "metadata": {
        "id": "3qb9zdhU7XiG"
      },
      "execution_count": 27,
      "outputs": []
    },
    {
      "cell_type": "code",
      "source": [
        "mae = mean_absolute_error(y_test_original, y_pred)\n",
        "mse = mean_squared_error(y_test_original, y_pred)\n",
        "rmse = np.sqrt(mse)\n",
        "r2 = r2_score(y_test_original, y_pred)\n",
        "print(r2)"
      ],
      "metadata": {
        "colab": {
          "base_uri": "https://localhost:8080/"
        },
        "id": "dykzIs3S7TyI",
        "outputId": "8601fa27-67a0-483a-9ee6-d44fd36b1175"
      },
      "execution_count": 29,
      "outputs": [
        {
          "output_type": "stream",
          "name": "stdout",
          "text": [
            "-3.598771339774487e-05\n"
          ]
        }
      ]
    },
    {
      "cell_type": "code",
      "source": [
        "range_y = np.max(y_test_original) - np.min(y_test_original)\n",
        "normalized_mae = mae / range_y\n",
        "accuracy = (1 - normalized_mae) * 100\n",
        "print(accuracy)"
      ],
      "metadata": {
        "colab": {
          "base_uri": "https://localhost:8080/"
        },
        "id": "JT5_NL-Q7tDC",
        "outputId": "596a41d3-67b1-4e74-f8a9-de17f18ac689"
      },
      "execution_count": 31,
      "outputs": [
        {
          "output_type": "stream",
          "name": "stdout",
          "text": [
            "90.35860716901605\n"
          ]
        }
      ]
    },
    {
      "cell_type": "code",
      "source": [
        "print(f'Mean Absolute Error (MAE): {mae}')\n",
        "print(f'Mean Squared Error (MSE): {mse}')\n",
        "print(f'Root Mean Squared Error (RMSE): {rmse}')\n",
        "print(f'R² Score: {r2}')\n",
        "print(f'Accuracy: {accuracy:.2f}%')"
      ],
      "metadata": {
        "id": "2hZwCuny76PE",
        "outputId": "4b566346-8f78-4fde-d774-67625721f445",
        "colab": {
          "base_uri": "https://localhost:8080/"
        }
      },
      "execution_count": 32,
      "outputs": [
        {
          "output_type": "stream",
          "name": "stdout",
          "text": [
            "Mean Absolute Error (MAE): 4.772489451337057\n",
            "Mean Squared Error (MSE): 41.0568366316975\n",
            "Root Mean Squared Error (RMSE): 6.407560895668296\n",
            "R² Score: -3.598771339774487e-05\n",
            "Accuracy: 90.36%\n"
          ]
        }
      ]
    },
    {
      "cell_type": "code",
      "source": [
        "plt.figure(figsize=(12, 6))\n",
        "plt.plot(history.history['loss'], label='Training Loss')\n",
        "plt.plot(history.history['val_loss'], label='Validation Loss')\n",
        "plt.title('Model Loss Over Epochs')\n",
        "plt.xlabel('Epochs')\n",
        "plt.ylabel('Loss (MSE)')\n",
        "plt.legend()\n",
        "plt.grid()\n",
        "plt.show()"
      ],
      "metadata": {
        "id": "uchsfwuj8ARN",
        "outputId": "aa550b92-8419-4a7d-ff0e-04f20e0d2742",
        "colab": {
          "base_uri": "https://localhost:8080/",
          "height": 432
        }
      },
      "execution_count": 33,
      "outputs": [
        {
          "output_type": "display_data",
          "data": {
            "text/plain": [
              "<Figure size 1200x600 with 1 Axes>"
            ],
            "image/png": "[encoded data removed]"
          },
          "metadata": {}
        }
      ]
    },
    {
      "cell_type": "code",
      "source": [],
      "metadata": {
        "id": "G_uAa73_8m_i"
      },
      "execution_count": null,
      "outputs": []
    }
  ]
}